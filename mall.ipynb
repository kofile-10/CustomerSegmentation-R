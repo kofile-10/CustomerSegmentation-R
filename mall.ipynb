{
 "cells": [
  {
   "cell_type": "code",
   "execution_count": 1,
   "metadata": {
    "ExecuteTime": {
     "end_time": "2020-12-09T05:50:50.051828Z",
     "start_time": "2020-12-09T05:50:50.031Z"
    }
   },
   "outputs": [],
   "source": [
    "options(warn = -1)"
   ]
  },
  {
   "cell_type": "markdown",
   "metadata": {},
   "source": [
    "## 1. Data Load"
   ]
  },
  {
   "cell_type": "code",
   "execution_count": 26,
   "metadata": {
    "ExecuteTime": {
     "end_time": "2020-12-10T23:01:46.332618Z",
     "start_time": "2020-12-10T23:01:46.314Z"
    }
   },
   "outputs": [],
   "source": [
    "mall = read.csv('C:/Users/kofil/OneDrive/Desktop/Kaggle/Mall/mall.csv')"
   ]
  },
  {
   "cell_type": "code",
   "execution_count": 18,
   "metadata": {
    "ExecuteTime": {
     "end_time": "2020-12-10T22:58:17.336984Z",
     "start_time": "2020-12-10T22:58:17.316Z"
    }
   },
   "outputs": [
    {
     "name": "stderr",
     "output_type": "stream",
     "text": [
      "The following `from` values were not present in `x`: Annual.Income..k..\n"
     ]
    }
   ],
   "source": [
    "# mall <- rename(mall,c(\"Annual.Income..k..\" = \"AnnualIncome\"))"
   ]
  },
  {
   "cell_type": "markdown",
   "metadata": {},
   "source": [
    "## 2. Package Imports"
   ]
  },
  {
   "cell_type": "code",
   "execution_count": 4,
   "metadata": {
    "ExecuteTime": {
     "end_time": "2020-12-10T22:45:58.746525Z",
     "start_time": "2020-12-10T22:45:41.824Z"
    }
   },
   "outputs": [
    {
     "name": "stdout",
     "output_type": "stream",
     "text": [
      "package 'leaflet' successfully unpacked and MD5 sums checked\n",
      "\n",
      "The downloaded binary packages are in\n",
      "\tC:\\Users\\kofil\\AppData\\Local\\Temp\\RtmpwF82er\\downloaded_packages\n",
      "package 'plotly' successfully unpacked and MD5 sums checked\n",
      "\n",
      "The downloaded binary packages are in\n",
      "\tC:\\Users\\kofil\\AppData\\Local\\Temp\\RtmpwF82er\\downloaded_packages\n",
      "package 'plyr' successfully unpacked and MD5 sums checked\n",
      "\n",
      "The downloaded binary packages are in\n",
      "\tC:\\Users\\kofil\\AppData\\Local\\Temp\\RtmpwF82er\\downloaded_packages\n",
      "package 'plotrix' successfully unpacked and MD5 sums checked\n",
      "\n",
      "The downloaded binary packages are in\n",
      "\tC:\\Users\\kofil\\AppData\\Local\\Temp\\RtmpwF82er\\downloaded_packages\n"
     ]
    }
   ],
   "source": [
    "install.packages('leaflet')\n",
    "install.packages('plotly')\n",
    "install.packages('plyr')\n",
    "install.packages('plotrix')"
   ]
  },
  {
   "cell_type": "code",
   "execution_count": 5,
   "metadata": {
    "ExecuteTime": {
     "end_time": "2020-12-10T22:46:03.914437Z",
     "start_time": "2020-12-10T22:45:42.276Z"
    }
   },
   "outputs": [
    {
     "name": "stderr",
     "output_type": "stream",
     "text": [
      "Warning message:\n",
      "\"package 'ggplot2' was built under R version 3.6.3\"Warning message:\n",
      "\"package 'dplyr' was built under R version 3.6.3\"\n",
      "Attaching package: 'dplyr'\n",
      "\n",
      "The following objects are masked from 'package:stats':\n",
      "\n",
      "    filter, lag\n",
      "\n",
      "The following objects are masked from 'package:base':\n",
      "\n",
      "    intersect, setdiff, setequal, union\n",
      "\n",
      "Warning message:\n",
      "\"package 'tidyverse' was built under R version 3.6.3\"-- Attaching packages --------------------------------------- tidyverse 1.3.0 --\n",
      "v tibble  3.0.4     v purrr   0.3.4\n",
      "v tidyr   1.1.2     v stringr 1.4.0\n",
      "v readr   1.4.0     v forcats 0.4.0\n",
      "Warning message:\n",
      "\"package 'tibble' was built under R version 3.6.3\"Warning message:\n",
      "\"package 'tidyr' was built under R version 3.6.3\"Warning message:\n",
      "\"package 'readr' was built under R version 3.6.3\"Warning message:\n",
      "\"package 'purrr' was built under R version 3.6.3\"-- Conflicts ------------------------------------------ tidyverse_conflicts() --\n",
      "x dplyr::filter()  masks stats::filter()\n",
      "x purrr::flatten() masks jsonlite::flatten()\n",
      "x dplyr::lag()     masks stats::lag()\n",
      "Warning message:\n",
      "\"package 'tidyquant' was built under R version 3.6.3\"Loading required package: lubridate\n",
      "Warning message:\n",
      "\"package 'lubridate' was built under R version 3.6.3\"\n",
      "Attaching package: 'lubridate'\n",
      "\n",
      "The following objects are masked from 'package:base':\n",
      "\n",
      "    date, intersect, setdiff, union\n",
      "\n",
      "Loading required package: PerformanceAnalytics\n",
      "Warning message:\n",
      "\"package 'PerformanceAnalytics' was built under R version 3.6.3\"Loading required package: xts\n",
      "Loading required package: zoo\n",
      "\n",
      "Attaching package: 'zoo'\n",
      "\n",
      "The following objects are masked from 'package:base':\n",
      "\n",
      "    as.Date, as.Date.numeric\n",
      "\n",
      "Registered S3 method overwritten by 'xts':\n",
      "  method     from\n",
      "  as.zoo.xts zoo \n",
      "\n",
      "Attaching package: 'xts'\n",
      "\n",
      "The following objects are masked from 'package:dplyr':\n",
      "\n",
      "    first, last\n",
      "\n",
      "\n",
      "Attaching package: 'PerformanceAnalytics'\n",
      "\n",
      "The following object is masked from 'package:graphics':\n",
      "\n",
      "    legend\n",
      "\n",
      "Loading required package: quantmod\n",
      "Loading required package: TTR\n",
      "Registered S3 method overwritten by 'quantmod':\n",
      "  method            from\n",
      "  as.zoo.data.frame zoo \n",
      "Version 0.4-0 included new data defaults. See ?getSymbols.\n",
      "== Need to Learn tidyquant? ====================================================\n",
      "Business Science offers a 1-hour course - Learning Lab #9: Performance Analysis & Portfolio Optimization with tidyquant!\n",
      "</> Learn more at: https://university.business-science.io/p/learning-labs-pro </>\n",
      "\n",
      "Attaching package: 'shiny'\n",
      "\n",
      "The following object is masked from 'package:jsonlite':\n",
      "\n",
      "    validate\n",
      "\n",
      "Warning message:\n",
      "\"package 'leaflet' was built under R version 3.6.3\"\n",
      "Attaching package: 'leaflet'\n",
      "\n",
      "The following object is masked from 'package:xts':\n",
      "\n",
      "    addLegend\n",
      "\n",
      "Loading required package: lattice\n",
      "\n",
      "Attaching package: 'caret'\n",
      "\n",
      "The following object is masked from 'package:purrr':\n",
      "\n",
      "    lift\n",
      "\n",
      "Warning message:\n",
      "\"package 'e1071' was built under R version 3.6.3\"\n",
      "Attaching package: 'e1071'\n",
      "\n",
      "The following objects are masked from 'package:PerformanceAnalytics':\n",
      "\n",
      "    kurtosis, skewness\n",
      "\n",
      "Warning message:\n",
      "\"package 'plotly' was built under R version 3.6.3\"\n",
      "Attaching package: 'plotly'\n",
      "\n",
      "The following object is masked from 'package:ggplot2':\n",
      "\n",
      "    last_plot\n",
      "\n",
      "The following object is masked from 'package:stats':\n",
      "\n",
      "    filter\n",
      "\n",
      "The following object is masked from 'package:graphics':\n",
      "\n",
      "    layout\n",
      "\n",
      "Warning message:\n",
      "\"package 'plyr' was built under R version 3.6.3\"------------------------------------------------------------------------------\n",
      "You have loaded plyr after dplyr - this is likely to cause problems.\n",
      "If you need functions from both plyr and dplyr, please load plyr first, then dplyr:\n",
      "library(plyr); library(dplyr)\n",
      "------------------------------------------------------------------------------\n",
      "\n",
      "Attaching package: 'plyr'\n",
      "\n",
      "The following objects are masked from 'package:plotly':\n",
      "\n",
      "    arrange, mutate, rename, summarise\n",
      "\n",
      "The following object is masked from 'package:purrr':\n",
      "\n",
      "    compact\n",
      "\n",
      "The following objects are masked from 'package:dplyr':\n",
      "\n",
      "    arrange, count, desc, failwith, id, mutate, rename, summarise,\n",
      "    summarize\n",
      "\n",
      "Warning message:\n",
      "\"package 'plotrix' was built under R version 3.6.3\""
     ]
    }
   ],
   "source": [
    "library(ggplot2)\n",
    "library(dplyr)\n",
    "library(tidyverse)\n",
    "library(tidyquant)\n",
    "library(shiny)\n",
    "library(leaflet)\n",
    "library(caret)\n",
    "library(e1071)\n",
    "library(plotly)\n",
    "library(plyr)\n",
    "library(plotrix)"
   ]
  },
  {
   "cell_type": "markdown",
   "metadata": {},
   "source": [
    "## 3. Exploratory Data Analysis"
   ]
  },
  {
   "cell_type": "markdown",
   "metadata": {
    "ExecuteTime": {
     "end_time": "2020-12-10T23:01:51.113200Z",
     "start_time": "2020-12-10T23:01:51.090Z"
    }
   },
   "source": [
    "str(mall)"
   ]
  },
  {
   "cell_type": "code",
   "execution_count": 28,
   "metadata": {
    "ExecuteTime": {
     "end_time": "2020-12-10T23:01:54.979608Z",
     "start_time": "2020-12-10T23:01:54.956Z"
    }
   },
   "outputs": [
    {
     "data": {
      "text/html": [
       "<table>\n",
       "<thead><tr><th scope=col>CustomerID</th><th scope=col>Gender</th><th scope=col>Age</th><th scope=col>AnnualIncome</th><th scope=col>SpendingScore</th></tr></thead>\n",
       "<tbody>\n",
       "\t<tr><td>1     </td><td>Male  </td><td>19    </td><td>15    </td><td>39    </td></tr>\n",
       "\t<tr><td>2     </td><td>Male  </td><td>21    </td><td>15    </td><td>81    </td></tr>\n",
       "\t<tr><td>3     </td><td>Female</td><td>20    </td><td>16    </td><td> 6    </td></tr>\n",
       "\t<tr><td>4     </td><td>Female</td><td>23    </td><td>16    </td><td>77    </td></tr>\n",
       "\t<tr><td>5     </td><td>Female</td><td>31    </td><td>17    </td><td>40    </td></tr>\n",
       "\t<tr><td>6     </td><td>Female</td><td>22    </td><td>17    </td><td>76    </td></tr>\n",
       "</tbody>\n",
       "</table>\n"
      ],
      "text/latex": [
       "\\begin{tabular}{r|lllll}\n",
       " CustomerID & Gender & Age & AnnualIncome & SpendingScore\\\\\n",
       "\\hline\n",
       "\t 1      & Male   & 19     & 15     & 39    \\\\\n",
       "\t 2      & Male   & 21     & 15     & 81    \\\\\n",
       "\t 3      & Female & 20     & 16     &  6    \\\\\n",
       "\t 4      & Female & 23     & 16     & 77    \\\\\n",
       "\t 5      & Female & 31     & 17     & 40    \\\\\n",
       "\t 6      & Female & 22     & 17     & 76    \\\\\n",
       "\\end{tabular}\n"
      ],
      "text/markdown": [
       "\n",
       "| CustomerID | Gender | Age | AnnualIncome | SpendingScore |\n",
       "|---|---|---|---|---|\n",
       "| 1      | Male   | 19     | 15     | 39     |\n",
       "| 2      | Male   | 21     | 15     | 81     |\n",
       "| 3      | Female | 20     | 16     |  6     |\n",
       "| 4      | Female | 23     | 16     | 77     |\n",
       "| 5      | Female | 31     | 17     | 40     |\n",
       "| 6      | Female | 22     | 17     | 76     |\n",
       "\n"
      ],
      "text/plain": [
       "  CustomerID Gender Age AnnualIncome SpendingScore\n",
       "1 1          Male   19  15           39           \n",
       "2 2          Male   21  15           81           \n",
       "3 3          Female 20  16            6           \n",
       "4 4          Female 23  16           77           \n",
       "5 5          Female 31  17           40           \n",
       "6 6          Female 22  17           76           "
      ]
     },
     "metadata": {},
     "output_type": "display_data"
    }
   ],
   "source": [
    "head(mall)"
   ]
  },
  {
   "cell_type": "code",
   "execution_count": 29,
   "metadata": {
    "ExecuteTime": {
     "end_time": "2020-12-10T23:01:55.315614Z",
     "start_time": "2020-12-10T23:01:55.294Z"
    }
   },
   "outputs": [
    {
     "data": {
      "text/plain": [
       "   CustomerID        Gender         Age         AnnualIncome    SpendingScore  \n",
       " Min.   :  1.00   Female:112   Min.   :18.00   Min.   : 15.00   Min.   : 1.00  \n",
       " 1st Qu.: 50.75   Male  : 88   1st Qu.:28.75   1st Qu.: 41.50   1st Qu.:34.75  \n",
       " Median :100.50                Median :36.00   Median : 61.50   Median :50.00  \n",
       " Mean   :100.50                Mean   :38.85   Mean   : 60.56   Mean   :50.20  \n",
       " 3rd Qu.:150.25                3rd Qu.:49.00   3rd Qu.: 78.00   3rd Qu.:73.00  \n",
       " Max.   :200.00                Max.   :70.00   Max.   :137.00   Max.   :99.00  "
      ]
     },
     "metadata": {},
     "output_type": "display_data"
    }
   ],
   "source": [
    "summary(mall)"
   ]
  },
  {
   "cell_type": "code",
   "execution_count": 30,
   "metadata": {
    "ExecuteTime": {
     "end_time": "2020-12-10T23:01:55.552631Z",
     "start_time": "2020-12-10T23:01:55.512Z"
    }
   },
   "outputs": [
    {
     "data": {
      "text/plain": [
       "   Min. 1st Qu.  Median    Mean 3rd Qu.    Max. \n",
       "  18.00   28.75   36.00   38.85   49.00   70.00 "
      ]
     },
     "metadata": {},
     "output_type": "display_data"
    },
    {
     "data": {
      "text/html": [
       "13.9690073315589"
      ],
      "text/latex": [
       "13.9690073315589"
      ],
      "text/markdown": [
       "13.9690073315589"
      ],
      "text/plain": [
       "[1] 13.96901"
      ]
     },
     "metadata": {},
     "output_type": "display_data"
    },
    {
     "data": {
      "text/plain": [
       "   Min. 1st Qu.  Median    Mean 3rd Qu.    Max. \n",
       "  15.00   41.50   61.50   60.56   78.00  137.00 "
      ]
     },
     "metadata": {},
     "output_type": "display_data"
    },
    {
     "data": {
      "text/html": [
       "26.2647211652712"
      ],
      "text/latex": [
       "26.2647211652712"
      ],
      "text/markdown": [
       "26.2647211652712"
      ],
      "text/plain": [
       "[1] 26.26472"
      ]
     },
     "metadata": {},
     "output_type": "display_data"
    },
    {
     "data": {
      "text/plain": [
       "   Min. 1st Qu.  Median    Mean 3rd Qu.    Max. \n",
       "   1.00   34.75   50.00   50.20   73.00   99.00 "
      ]
     },
     "metadata": {},
     "output_type": "display_data"
    },
    {
     "data": {
      "text/html": [
       "25.8235216683702"
      ],
      "text/latex": [
       "25.8235216683702"
      ],
      "text/markdown": [
       "25.8235216683702"
      ],
      "text/plain": [
       "[1] 25.82352"
      ]
     },
     "metadata": {},
     "output_type": "display_data"
    }
   ],
   "source": [
    "summary(mall$Age)\n",
    "sd(mall$Age)\n",
    "\n",
    "summary(mall$AnnualIncome)\n",
    "sd(mall$AnnualIncome)\n",
    "\n",
    "summary(mall$SpendingScore)\n",
    "sd(mall$SpendingScore)"
   ]
  },
  {
   "cell_type": "markdown",
   "metadata": {},
   "source": [
    "### 3.1 Customer Gender Visualization"
   ]
  },
  {
   "cell_type": "code",
   "execution_count": 31,
   "metadata": {
    "ExecuteTime": {
     "end_time": "2020-12-10T23:01:55.933133Z",
     "start_time": "2020-12-10T23:01:55.877Z"
    }
   },
   "outputs": [
    {
     "data": {
      "image/png": "[encoded data removed]",
      "text/plain": [
       "Plot with title \"Gender Comparision\""
      ]
     },
     "metadata": {},
     "output_type": "display_data"
    }
   ],
   "source": [
    "a=table(mall$Gender)\n",
    "barplot(a,main=\"Gender Comparision\",\n",
    "       ylab=\"Count\",\n",
    "       xlab=\"Gender\",\n",
    "       col=rainbow(2),\n",
    "       legend=rownames(a))"
   ]
  },
  {
   "cell_type": "markdown",
   "metadata": {},
   "source": [
    "##### Female count is higher than the Male count"
   ]
  },
  {
   "cell_type": "code",
   "execution_count": null,
   "metadata": {},
   "outputs": [],
   "source": []
  },
  {
   "cell_type": "markdown",
   "metadata": {},
   "source": [
    "### 3.1.1 Gender Ratio"
   ]
  },
  {
   "cell_type": "code",
   "execution_count": 32,
   "metadata": {
    "ExecuteTime": {
     "end_time": "2020-12-10T23:01:57.008614Z",
     "start_time": "2020-12-10T23:01:56.952Z"
    }
   },
   "outputs": [
    {
     "data": {
      "image/png": "[encoded data removed]",
      "text/plain": [
       "Plot with title \"Pie Chart Depicting Ratio of Female and Male\""
      ]
     },
     "metadata": {},
     "output_type": "display_data"
    }
   ],
   "source": [
    "pct=round(a/sum(a)*100)\n",
    "lbs=paste(c(\"Female\",\"Male\"),\" \",pct,\"%\",sep=\" \")\n",
    "library(plotrix)\n",
    "pie3D(a,labels=lbs,\n",
    "   main=\"Pie Chart Depicting Ratio of Female and Male\")"
   ]
  },
  {
   "cell_type": "markdown",
   "metadata": {},
   "source": [
    "##### Slight majority of shoppers are women"
   ]
  },
  {
   "cell_type": "code",
   "execution_count": null,
   "metadata": {},
   "outputs": [],
   "source": []
  },
  {
   "cell_type": "markdown",
   "metadata": {},
   "source": [
    "### 3.2 Visualization of Age Distribution"
   ]
  },
  {
   "cell_type": "markdown",
   "metadata": {},
   "source": [
    "#### 3.2.1 Summary Statistics"
   ]
  },
  {
   "cell_type": "code",
   "execution_count": 33,
   "metadata": {
    "ExecuteTime": {
     "end_time": "2020-12-10T23:01:58.044610Z",
     "start_time": "2020-12-10T23:01:58.024Z"
    }
   },
   "outputs": [
    {
     "data": {
      "text/plain": [
       "   Min. 1st Qu.  Median    Mean 3rd Qu.    Max. \n",
       "  18.00   28.75   36.00   38.85   49.00   70.00 "
      ]
     },
     "metadata": {},
     "output_type": "display_data"
    }
   ],
   "source": [
    "summary(mall$Age)"
   ]
  },
  {
   "cell_type": "markdown",
   "metadata": {},
   "source": [
    "#### 3.2.2 Age Frequency Distribution"
   ]
  },
  {
   "cell_type": "code",
   "execution_count": 34,
   "metadata": {
    "ExecuteTime": {
     "end_time": "2020-12-10T23:01:58.509614Z",
     "start_time": "2020-12-10T23:01:58.442Z"
    }
   },
   "outputs": [
    {
     "data": {
      "image/png": "[encoded data removed]",
      "text/plain": [
       "Plot with title \"Histogram to Show Count of Age Class\""
      ]
     },
     "metadata": {},
     "output_type": "display_data"
    }
   ],
   "source": [
    "hist(mall$Age,\n",
    "    col=\"blue\",\n",
    "    main=\"Histogram to Show Count of Age Class\",\n",
    "    xlab=\"Age Class\",\n",
    "    ylab=\"Frequency\",\n",
    "    labels=TRUE)"
   ]
  },
  {
   "cell_type": "markdown",
   "metadata": {},
   "source": [
    "#### 3.2.3 Descriptive Statistics (Age) - Box Plot"
   ]
  },
  {
   "cell_type": "code",
   "execution_count": 35,
   "metadata": {
    "ExecuteTime": {
     "end_time": "2020-12-10T23:01:58.935121Z",
     "start_time": "2020-12-10T23:01:58.877Z"
    }
   },
   "outputs": [
    {
     "data": {
      "text/plain": [
       "   Min. 1st Qu.  Median    Mean 3rd Qu.    Max. \n",
       "  18.00   28.75   36.00   38.85   49.00   70.00 "
      ]
     },
     "metadata": {},
     "output_type": "display_data"
    },
    {
     "data": {
      "image/png": "[encoded data removed]",
      "text/plain": [
       "Plot with title \"Boxplot for Descriptive Analysis of Age\""
      ]
     },
     "metadata": {},
     "output_type": "display_data"
    }
   ],
   "source": [
    "boxplot(mall$Age,\n",
    "       col=\"#ff0066\",\n",
    "       main=\"Boxplot for Descriptive Analysis of Age\")\n",
    "\n",
    "summary(mall$Age)"
   ]
  },
  {
   "cell_type": "markdown",
   "metadata": {},
   "source": [
    "##### Minimum Age is 18, Max Age is 70. Middle 50% Age Bracket is between 28 and 48."
   ]
  },
  {
   "cell_type": "code",
   "execution_count": null,
   "metadata": {},
   "outputs": [],
   "source": []
  },
  {
   "cell_type": "markdown",
   "metadata": {},
   "source": [
    "### 3.3 Customer Income Analysis"
   ]
  },
  {
   "cell_type": "markdown",
   "metadata": {},
   "source": [
    "#### 3.3.1 Histogram for Annual Income"
   ]
  },
  {
   "cell_type": "code",
   "execution_count": 36,
   "metadata": {
    "ExecuteTime": {
     "end_time": "2020-12-10T23:01:59.997821Z",
     "start_time": "2020-12-10T23:01:59.932Z"
    }
   },
   "outputs": [
    {
     "data": {
      "text/plain": [
       "   Min. 1st Qu.  Median    Mean 3rd Qu.    Max. \n",
       "  15.00   41.50   61.50   60.56   78.00  137.00 "
      ]
     },
     "metadata": {},
     "output_type": "display_data"
    },
    {
     "data": {
      "image/png": "[encoded data removed]",
      "text/plain": [
       "Plot with title \"Histogram for Annual Income\""
      ]
     },
     "metadata": {},
     "output_type": "display_data"
    }
   ],
   "source": [
    "summary(mall$AnnualIncome)\n",
    "hist(mall$AnnualIncome,\n",
    "  col=\"#660033\",\n",
    "  main=\"Histogram for Annual Income\",\n",
    "  xlab=\"Annual Income Class\",\n",
    "  ylab=\"Frequency\",\n",
    "  labels=TRUE)"
   ]
  },
  {
   "cell_type": "markdown",
   "metadata": {},
   "source": [
    "#### 3.3.2 Density Plot - Annual Income"
   ]
  },
  {
   "cell_type": "code",
   "execution_count": 37,
   "metadata": {
    "ExecuteTime": {
     "end_time": "2020-12-10T23:02:00.389386Z",
     "start_time": "2020-12-10T23:02:00.321Z"
    }
   },
   "outputs": [
    {
     "data": {
      "image/png": "[encoded data removed]",
      "text/plain": [
       "Plot with title \"Density Plot for Annual Income\""
      ]
     },
     "metadata": {},
     "output_type": "display_data"
    }
   ],
   "source": [
    "plot(density(mall$AnnualIncome),\n",
    "    col=\"yellow\",\n",
    "    main=\"Density Plot for Annual Income\",\n",
    "    xlab=\"Annual Income Class\",\n",
    "    ylab=\"Density\")\n",
    "polygon(density(mall$AnnualIncome),\n",
    "        col=\"#ccff66\")"
   ]
  },
  {
   "cell_type": "code",
   "execution_count": 38,
   "metadata": {
    "ExecuteTime": {
     "end_time": "2020-12-10T23:02:00.553415Z",
     "start_time": "2020-12-10T23:02:00.533Z"
    }
   },
   "outputs": [
    {
     "data": {
      "text/plain": [
       "   Min. 1st Qu.  Median    Mean 3rd Qu.    Max. \n",
       "  15.00   41.50   61.50   60.56   78.00  137.00 "
      ]
     },
     "metadata": {},
     "output_type": "display_data"
    }
   ],
   "source": [
    "summary(mall$AnnualIncome)"
   ]
  },
  {
   "cell_type": "markdown",
   "metadata": {},
   "source": [
    "##### Average Income 60,560. Min/Max: 15k/137k. Middle 50: 41.5k-78k. Annual Income is Normally Distributed."
   ]
  },
  {
   "cell_type": "code",
   "execution_count": null,
   "metadata": {},
   "outputs": [],
   "source": []
  },
  {
   "cell_type": "markdown",
   "metadata": {},
   "source": [
    "### 3.4 Customer Spending Score Analysis"
   ]
  },
  {
   "cell_type": "markdown",
   "metadata": {},
   "source": [
    "#### 3.4.1 Box Plot for Descriptive Analysis of Spending Score"
   ]
  },
  {
   "cell_type": "code",
   "execution_count": 41,
   "metadata": {
    "ExecuteTime": {
     "end_time": "2020-12-11T21:59:12.049958Z",
     "start_time": "2020-12-11T21:59:11.989Z"
    }
   },
   "outputs": [
    {
     "data": {
      "text/plain": [
       "   Min. 1st Qu.  Median    Mean 3rd Qu.    Max. \n",
       "   1.00   34.75   50.00   50.20   73.00   99.00 "
      ]
     },
     "metadata": {},
     "output_type": "display_data"
    },
    {
     "data": {
      "image/png": "[encoded data removed]",
      "text/plain": [
       "Plot with title \"Box Plot for Descriptive Analysis of Spending Score\""
      ]
     },
     "metadata": {},
     "output_type": "display_data"
    }
   ],
   "source": [
    "summary(mall$SpendingScore)\n",
    "\n",
    "# Min. 1st Qu. Median Mean 3rd Qu. Max. \n",
    "## 1.00 34.75 50.00 50.20 73.00 99.00\n",
    "boxplot(mall$SpendingScore,\n",
    "   horizontal=TRUE,\n",
    "   col=\"#990000\",\n",
    "   main=\"Box Plot for Descriptive Analysis of Spending Score\")"
   ]
  },
  {
   "cell_type": "markdown",
   "metadata": {},
   "source": [
    "#### Spending Score Distribution"
   ]
  },
  {
   "cell_type": "code",
   "execution_count": 44,
   "metadata": {
    "ExecuteTime": {
     "end_time": "2020-12-11T22:01:38.538487Z",
     "start_time": "2020-12-11T22:01:38.479Z"
    }
   },
   "outputs": [
    {
     "data": {
      "image/png": "[encoded data removed]",
      "text/plain": [
       "Plot with title \"Histogram for Spending Score\""
      ]
     },
     "metadata": {},
     "output_type": "display_data"
    }
   ],
   "source": [
    "hist(mall$SpendingScore,\n",
    "    main=\"Histogram for Spending Score\",\n",
    "    xlab=\"Spending Score Class\",\n",
    "    ylab=\"Frequency\",\n",
    "    col=\"#6600cc\",\n",
    "    labels=TRUE)"
   ]
  },
  {
   "cell_type": "markdown",
   "metadata": {},
   "source": [
    "#####  Min/Max: 1,99. \n",
    "##### Mean: 50.2\n",
    "##### Middle 50: ~40"
   ]
  },
  {
   "cell_type": "code",
   "execution_count": null,
   "metadata": {},
   "outputs": [],
   "source": []
  },
  {
   "cell_type": "markdown",
   "metadata": {},
   "source": [
    "## 3.5 K-Means Clustering"
   ]
  },
  {
   "cell_type": "markdown",
   "metadata": {},
   "source": [
    "### 3.5.1 Determing Optimal Clusters\n",
    "\n",
    "##### 3.5.1 A.) Elbow Method\n",
    "\n",
    "\n",
    "##### 3.5.2 B.) Gap Statistic"
   ]
  },
  {
   "cell_type": "code",
   "execution_count": null,
   "metadata": {},
   "outputs": [],
   "source": []
  },
  {
   "cell_type": "markdown",
   "metadata": {},
   "source": [
    "### 3.5.1 A.) Elbow Method"
   ]
  },
  {
   "cell_type": "markdown",
   "metadata": {},
   "source": [
    "##### minimize(sum W(Ck)), k=1...k\n",
    "\n",
    "##### Ck = \"kth\" cluster\n",
    "##### W(Ck) = intra-cluster variation --> Can determine the intra-cluster variation"
   ]
  },
  {
   "cell_type": "code",
   "execution_count": null,
   "metadata": {},
   "outputs": [],
   "source": []
  },
  {
   "cell_type": "code",
   "execution_count": 46,
   "metadata": {
    "ExecuteTime": {
     "end_time": "2020-12-12T22:30:48.946398Z",
     "start_time": "2020-12-12T22:30:44.265Z"
    }
   },
   "outputs": [
    {
     "name": "stderr",
     "output_type": "stream",
     "text": [
      "Warning message:\n",
      "\"package 'purrr' is in use and will not be installed\""
     ]
    }
   ],
   "source": [
    "install.packages(\"purrr\")"
   ]
  },
  {
   "cell_type": "code",
   "execution_count": 47,
   "metadata": {
    "ExecuteTime": {
     "end_time": "2020-12-12T22:31:11.122260Z",
     "start_time": "2020-12-12T22:31:10.985Z"
    }
   },
   "outputs": [
    {
     "data": {
      "image/png": "[encoded data removed]",
      "text/plain": [
       "plot without title"
      ]
     },
     "metadata": {},
     "output_type": "display_data"
    }
   ],
   "source": [
    "library(purrr)\n",
    "set.seed(123)\n",
    "# function to calculate total intra-cluster sum of square \n",
    "iss <- function(k) {\n",
    "  kmeans(mall[,3:5],k,iter.max=100,nstart=100,algorithm=\"Lloyd\" )$tot.withinss\n",
    "}\n",
    "k.values <- 1:10\n",
    "iss_values <- map_dbl(k.values, iss)\n",
    "plot(k.values, iss_values,\n",
    "    type=\"b\", pch = 19, frame = FALSE, \n",
    "    xlab=\"Number of clusters K\",\n",
    "    ylab=\"Total intra-clusters sum of squares\")"
   ]
  },
  {
   "cell_type": "markdown",
   "metadata": {},
   "source": [
    "##### 4 is the best number of clusters due to it appearing at the bend in the elbow plot"
   ]
  },
  {
   "cell_type": "code",
   "execution_count": null,
   "metadata": {},
   "outputs": [],
   "source": []
  },
  {
   "cell_type": "markdown",
   "metadata": {},
   "source": [
    "### 3.5.1 B.) Gap Statistic"
   ]
  },
  {
   "cell_type": "code",
   "execution_count": 53,
   "metadata": {
    "ExecuteTime": {
     "end_time": "2020-12-12T22:49:30.983215Z",
     "start_time": "2020-12-12T22:49:28.330Z"
    }
   },
   "outputs": [
    {
     "name": "stderr",
     "output_type": "stream",
     "text": [
      "Warning message:\n",
      "\"package 'NbClust' is in use and will not be installed\"Warning message:\n",
      "\"package 'factoextra' is in use and will not be installed\""
     ]
    }
   ],
   "source": [
    "install.packages('NbClust')\n",
    "install.packages('factoextra')"
   ]
  },
  {
   "cell_type": "code",
   "execution_count": 52,
   "metadata": {
    "ExecuteTime": {
     "end_time": "2020-12-12T22:49:20.098324Z",
     "start_time": "2020-12-12T22:49:19.516Z"
    }
   },
   "outputs": [
    {
     "name": "stderr",
     "output_type": "stream",
     "text": [
      "Warning message:\n",
      "\"package 'factoextra' was built under R version 3.6.3\"Welcome! Want to learn more? See two factoextra-related books at https://goo.gl/ve3WBa\n"
     ]
    },
    {
     "data": {
      "image/png": "[encoded data removed]",
      "text/plain": [
       "plot without title"
      ]
     },
     "metadata": {},
     "output_type": "display_data"
    }
   ],
   "source": [
    "library(NbClust)\n",
    "library(factoextra)\n",
    "fviz_nbclust(mall[,3:5], kmeans, method = \"silhouette\")"
   ]
  },
  {
   "cell_type": "code",
   "execution_count": null,
   "metadata": {},
   "outputs": [],
   "source": []
  }
 ],
 "metadata": {
  "kernelspec": {
   "display_name": "R",
   "language": "R",
   "name": "ir"
  },
  "language_info": {
   "codemirror_mode": "r",
   "file_extension": ".r",
   "mimetype": "text/x-r-source",
   "name": "R",
   "pygments_lexer": "r",
   "version": "3.6.1"
  }
 },
 "nbformat": 4,
 "nbformat_minor": 4
}
